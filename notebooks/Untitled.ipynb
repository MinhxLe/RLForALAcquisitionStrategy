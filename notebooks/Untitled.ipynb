{
 "cells": [
  {
   "cell_type": "code",
   "execution_count": 1,
   "metadata": {},
   "outputs": [],
   "source": [
    "import os\n",
    "import numpy as np\n",
    "import pandas as pd\n",
    "import matplotlib.pyplot as plt\n",
    "import seaborn as sns\n",
    "%matplotlib inline"
   ]
  },
  {
   "cell_type": "code",
   "execution_count": 3,
   "metadata": {},
   "outputs": [],
   "source": [
    "os.chdir('/home/minh/Research/RL_for_AL_acquisition')\n",
    "DIR = '/home/minh/Research/RL_for_AL_acquisition/results/Cifar10/classes=[0, 1]_al_epochs=20_al_step_percentage=0.01_warm_start_percentage=0.1_retrain_model=True_n_train_epochs=10'"
   ]
  },
  {
   "cell_type": "code",
   "execution_count": 60,
   "metadata": {},
   "outputs": [],
   "source": [
    "def get_confusion_matrix_df(root_dir: str, data_type: str):\n",
    "    meta_df = None\n",
    "    confusion_matrices = None\n",
    "    for subdir, dirs, files in os.walk(root_dir):\n",
    "        for file in files:\n",
    "            if file == f\"{data_type}_confusion_matrix.csv\":\n",
    "                folder_ls = subdir.split('/')\n",
    "                sampler = folder_ls[-2]\n",
    "                run_timestamp = folder_ls[-1]\n",
    "                raw_data = np.genfromtxt(os.path.join(subdir, file), delimiter=',')\n",
    "                df = pd.DataFrame(\n",
    "                    data={\n",
    "                        \"n_labelled\": raw_data[:,:1].flatten(),\n",
    "                    }\n",
    "                )\n",
    "                df[\"exp_timestamp\"] = run_timestamp\n",
    "                df[\"sampler_type\"] = sampler\n",
    "                if meta_df is None:\n",
    "                    meta_df = df\n",
    "                else:\n",
    "                    meta_df = pd.concat([meta_df, df])\n",
    "                    \n",
    "                n_classes = int(np.sqrt(raw_data.shape[1]-1))\n",
    "                confusion_matrix = raw_data[:, 1:].reshape(-1, n_classes, n_classes)\n",
    "                if confusion_matrices is None:\n",
    "                    confusion_matrices = confusion_matrix\n",
    "                else:\n",
    "                    confusion_matrices = np.concatenate((confusion_matrices, confusion_matrix))\n",
    "    return meta_df, confusion_matrices"
   ]
  },
  {
   "cell_type": "code",
   "execution_count": 61,
   "metadata": {},
   "outputs": [],
   "source": [
    "meta_df, confusion_matrices = get_confusion_matrix_df(DIR, \"test\")"
   ]
  },
  {
   "cell_type": "code",
   "execution_count": 66,
   "metadata": {},
   "outputs": [
    {
     "data": {
      "text/plain": [
       "array([[[872.,  28.],\n",
       "        [ 61.,  39.]]])"
      ]
     },
     "execution_count": 66,
     "metadata": {},
     "output_type": "execute_result"
    }
   ],
   "source": [
    "confusion_matrices[meta_df['n_labelled']==452.0]"
   ]
  },
  {
   "cell_type": "code",
   "execution_count": 72,
   "metadata": {},
   "outputs": [
    {
     "data": {
      "text/plain": [
       "array([[[892.,   8.],\n",
       "        [ 62.,  38.]],\n",
       "\n",
       "       [[886.,  14.],\n",
       "        [ 78.,  22.]]])"
      ]
     },
     "execution_count": 72,
     "metadata": {},
     "output_type": "execute_result"
    }
   ],
   "source": [
    "confusion_matrices[meta_df.index==19]"
   ]
  },
  {
   "cell_type": "code",
   "execution_count": null,
   "metadata": {},
   "outputs": [],
   "source": []
  },
  {
   "cell_type": "code",
   "execution_count": null,
   "metadata": {},
   "outputs": [],
   "source": []
  }
 ],
 "metadata": {
  "kernelspec": {
   "display_name": "Python 3",
   "language": "python",
   "name": "python3"
  },
  "language_info": {
   "codemirror_mode": {
    "name": "ipython",
    "version": 3
   },
   "file_extension": ".py",
   "mimetype": "text/x-python",
   "name": "python",
   "nbconvert_exporter": "python",
   "pygments_lexer": "ipython3",
   "version": "3.8.5"
  }
 },
 "nbformat": 4,
 "nbformat_minor": 4
}
