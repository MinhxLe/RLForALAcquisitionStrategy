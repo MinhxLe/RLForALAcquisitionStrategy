{
 "cells": [
  {
   "cell_type": "code",
   "execution_count": 1,
   "metadata": {},
   "outputs": [],
   "source": [
    "import os\n",
    "import numpy as np\n",
    "import pandas as pd\n",
    "import matplotlib.pyplot as plt\n",
    "import seaborn as sns\n",
    "%matplotlib inline"
   ]
  },
  {
   "cell_type": "code",
   "execution_count": 2,
   "metadata": {},
   "outputs": [],
   "source": [
    "os.chdir('/home/minh/Research/RL_for_AL_acquisition')\n"
   ]
  },
  {
   "cell_type": "code",
   "execution_count": null,
   "metadata": {},
   "outputs": [],
   "source": [
    "def get_confusion_matrix_df(roo_dir: str, data_type: str):\n",
    "    master_df = None\n",
    "    for subdir, dirs, files in os.walk(experiment_dir):\n",
    "        for file in files:\n",
    "            if file == f\"{data_type}_results.csv\":\n",
    "                folder_ls = subdir.split('/')\n",
    "                sampler = folder_ls[-2]\n",
    "                run_timestamp = folder_ls[-1]\n",
    "                df = pd.read_csv(os.path.join(subdir, file), header=0) # names=column_names)\n",
    "                df[\"data_type\"] = data_type\n",
    "                df[\"exp_timestamp\"] = run_timestamp\n",
    "                df[\"sampler_type\"] = sampler\n",
    "                #if len(df) >= 100:  # todo this is hacky\n",
    "                if master_df is None:\n",
    "                    master_df = df\n",
    "                else:\n",
    "                    master_df = pd.concat([master_df, df])\n",
    "    return master_df"
   ]
  }
 ],
 "metadata": {
  "kernelspec": {
   "display_name": "Python 3",
   "language": "python",
   "name": "python3"
  },
  "language_info": {
   "codemirror_mode": {
    "name": "ipython",
    "version": 3
   },
   "file_extension": ".py",
   "mimetype": "text/x-python",
   "name": "python",
   "nbconvert_exporter": "python",
   "pygments_lexer": "ipython3",
   "version": "3.8.5"
  }
 },
 "nbformat": 4,
 "nbformat_minor": 4
}
